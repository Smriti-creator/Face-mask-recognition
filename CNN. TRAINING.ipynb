{
 "cells": [
  {
   "cell_type": "markdown",
   "metadata": {},
   "source": [
    "# SMRITI AMATYA"
   ]
  },
  {
   "cell_type": "markdown",
   "metadata": {},
   "source": [
    "\n",
    "## load the previous data and target"
   ]
  },
  {
   "cell_type": "code",
   "execution_count": 50,
   "metadata": {},
   "outputs": [],
   "source": [
    "import numpy as np\n",
    "\n",
    "data=np.load('data.npy')\n",
    "target=np.load('target.npy')\n",
    "\n"
   ]
  },
  {
   "cell_type": "code",
   "execution_count": 51,
   "metadata": {},
   "outputs": [],
   "source": [
    "from keras.models import Sequential\n",
    "from keras.layers import Dense,Activation,Flatten,Dropout\n",
    "from keras.layers import Conv2D,MaxPooling2D\n",
    "from keras.callbacks import ModelCheckpoint\n",
    "\n",
    "model=Sequential()\n",
    "\n",
    "model.add(Conv2D(200,(3,3),input_shape=data.shape[1:]))\n",
    "model.add(Activation('relu'))\n",
    "model.add(MaxPooling2D(pool_size=(2,2)))\n",
    "#The first CNN layer followed by Relu and MaxPooling layers\n",
    "\n",
    "model.add(Conv2D(100,(3,3)))\n",
    "model.add(Activation('relu'))\n",
    "model.add(MaxPooling2D(pool_size=(2,2)))\n",
    "#The second convolution layer followed by Relu and MaxPooling layers\n",
    "\n",
    "\n",
    "model.add(Flatten())\n",
    "model.add(Dropout(0.3))\n",
    "#Flatten layer to stack the output convolutions from second convolution layer\n",
    "model.add(Dense(30,activation='relu'))\n",
    "#Dense layer\n",
    "model.add(Dense(2,activation='softmax'))\n",
    "#The Final layer with two outputs for two categories\n",
    "\n",
    "model.compile(loss='categorical_crossentropy',optimizer='adam',metrics=['accuracy'])"
   ]
  },
  {
   "cell_type": "code",
   "execution_count": 52,
   "metadata": {},
   "outputs": [],
   "source": [
    "from sklearn.model_selection import train_test_split\n",
    "\n",
    "train_data,test_data,train_target,test_target=train_test_split(data,target,test_size=0.1)"
   ]
  },
  {
   "cell_type": "code",
   "execution_count": 53,
   "metadata": {},
   "outputs": [
    {
     "name": "stdout",
     "output_type": "stream",
     "text": [
      "Epoch 1/15\n",
      "35/35 [==============================] - ETA: 0s - loss: 0.6992 - accuracy: 0.5736INFO:tensorflow:Assets written to: model-001.model\\assets\n",
      "35/35 [==============================] - 45s 1s/step - loss: 0.6992 - accuracy: 0.5736 - val_loss: 0.5948 - val_accuracy: 0.6855\n",
      "Epoch 2/15\n",
      "35/35 [==============================] - ETA: 0s - loss: 0.4902 - accuracy: 0.7684INFO:tensorflow:Assets written to: model-002.model\\assets\n",
      "35/35 [==============================] - 46s 1s/step - loss: 0.4902 - accuracy: 0.7684 - val_loss: 0.3237 - val_accuracy: 0.8468\n",
      "Epoch 3/15\n",
      "35/35 [==============================] - ETA: 0s - loss: 0.3569 - accuracy: 0.8429INFO:tensorflow:Assets written to: model-003.model\\assets\n",
      "35/35 [==============================] - 46s 1s/step - loss: 0.3569 - accuracy: 0.8429 - val_loss: 0.3231 - val_accuracy: 0.8871\n",
      "Epoch 4/15\n",
      "35/35 [==============================] - ETA: 0s - loss: 0.2174 - accuracy: 0.9255INFO:tensorflow:Assets written to: model-004.model\\assets\n",
      "35/35 [==============================] - 47s 1s/step - loss: 0.2174 - accuracy: 0.9255 - val_loss: 0.1966 - val_accuracy: 0.8952\n",
      "Epoch 5/15\n",
      "35/35 [==============================] - ETA: 0s - loss: 0.1574 - accuracy: 0.9461INFO:tensorflow:Assets written to: model-005.model\\assets\n",
      "35/35 [==============================] - 49s 1s/step - loss: 0.1574 - accuracy: 0.9461 - val_loss: 0.1816 - val_accuracy: 0.9113\n",
      "Epoch 6/15\n",
      "35/35 [==============================] - 48s 1s/step - loss: 0.1080 - accuracy: 0.9632 - val_loss: 0.1994 - val_accuracy: 0.9274\n",
      "Epoch 7/15\n",
      "35/35 [==============================] - ETA: 0s - loss: 0.1008 - accuracy: 0.9668INFO:tensorflow:Assets written to: model-007.model\\assets\n",
      "35/35 [==============================] - 51s 1s/step - loss: 0.1008 - accuracy: 0.9668 - val_loss: 0.1433 - val_accuracy: 0.9274\n",
      "Epoch 8/15\n",
      "35/35 [==============================] - ETA: 0s - loss: 0.0715 - accuracy: 0.9758INFO:tensorflow:Assets written to: model-008.model\\assets\n",
      "35/35 [==============================] - 46s 1s/step - loss: 0.0715 - accuracy: 0.9758 - val_loss: 0.1379 - val_accuracy: 0.9516\n",
      "Epoch 9/15\n",
      "35/35 [==============================] - ETA: 0s - loss: 0.0487 - accuracy: 0.9847INFO:tensorflow:Assets written to: model-009.model\\assets\n",
      "35/35 [==============================] - 47s 1s/step - loss: 0.0487 - accuracy: 0.9847 - val_loss: 0.1261 - val_accuracy: 0.9677\n",
      "Epoch 10/15\n",
      "35/35 [==============================] - 47s 1s/step - loss: 0.0553 - accuracy: 0.9838 - val_loss: 0.1848 - val_accuracy: 0.9032\n",
      "Epoch 11/15\n",
      "35/35 [==============================] - ETA: 0s - loss: 0.0396 - accuracy: 0.9910INFO:tensorflow:Assets written to: model-011.model\\assets\n",
      "35/35 [==============================] - 46s 1s/step - loss: 0.0396 - accuracy: 0.9910 - val_loss: 0.1139 - val_accuracy: 0.9516\n",
      "Epoch 12/15\n",
      "35/35 [==============================] - 43s 1s/step - loss: 0.0316 - accuracy: 0.9910 - val_loss: 0.1789 - val_accuracy: 0.9516\n",
      "Epoch 13/15\n",
      "35/35 [==============================] - 44s 1s/step - loss: 0.0291 - accuracy: 0.9919 - val_loss: 0.1518 - val_accuracy: 0.9516\n",
      "Epoch 14/15\n",
      "35/35 [==============================] - 44s 1s/step - loss: 0.0224 - accuracy: 0.9937 - val_loss: 0.1698 - val_accuracy: 0.9677\n",
      "Epoch 15/15\n",
      "35/35 [==============================] - 44s 1s/step - loss: 0.0205 - accuracy: 0.9928 - val_loss: 0.1777 - val_accuracy: 0.9597\n"
     ]
    }
   ],
   "source": [
    "checkpoint = ModelCheckpoint('model-{epoch:03d}.model',monitor='val_loss',verbose=0,save_best_only=True,mode='auto')\n",
    "history=model.fit(train_data,train_target,epochs=15,callbacks=[checkpoint],validation_split=0.1)"
   ]
  },
  {
   "cell_type": "markdown",
   "metadata": {},
   "source": [
    "## shows the training and validation loss from the epochs data"
   ]
  },
  {
   "cell_type": "code",
   "execution_count": 57,
   "metadata": {},
   "outputs": [
    {
     "data": {
      "image/png": "[encoded data removed]",
      "text/plain": [
       "<Figure size 432x288 with 1 Axes>"
      ]
     },
     "metadata": {
      "needs_background": "light"
     },
     "output_type": "display_data"
    }
   ],
   "source": [
    "from matplotlib import pyplot as plt\n",
    "\n",
    "plt.plot(history.history['loss'],'r',label='training loss')\n",
    "plt.plot(history.history['val_loss'],label='validation loss')\n",
    "plt.xlabel('# epochs')\n",
    "plt.ylabel('loss')\n",
    "plt.legend()\n",
    "plt.show()"
   ]
  },
  {
   "cell_type": "markdown",
   "metadata": {},
   "source": [
    "## shows the training and validation accuracy from epochs data"
   ]
  },
  {
   "cell_type": "code",
   "execution_count": 58,
   "metadata": {},
   "outputs": [
    {
     "data": {
      "image/png": "[encoded data removed]",
      "text/plain": [
       "<Figure size 432x288 with 1 Axes>"
      ]
     },
     "metadata": {
      "needs_background": "light"
     },
     "output_type": "display_data"
    }
   ],
   "source": [
    "plt.plot(history.history['accuracy'],'r',label='training accuracy')\n",
    "plt.plot(history.history['val_accuracy'],label='validation accuracy')\n",
    "plt.xlabel('# epochs')\n",
    "plt.ylabel('loss')\n",
    "plt.legend()\n",
    "plt.show()"
   ]
  },
  {
   "cell_type": "code",
   "execution_count": 59,
   "metadata": {},
   "outputs": [
    {
     "name": "stdout",
     "output_type": "stream",
     "text": [
      "5/5 [==============================] - 1s 260ms/step - loss: 0.2994 - accuracy: 0.9348\n",
      "[0.29944896697998047, 0.9347826242446899]\n"
     ]
    }
   ],
   "source": [
    "print(model.evaluate(test_data,test_target))"
   ]
  },
  {
   "cell_type": "code",
   "execution_count": null,
   "metadata": {},
   "outputs": [],
   "source": []
  }
 ],
 "metadata": {
  "kernelspec": {
   "display_name": "Python 3",
   "language": "python",
   "name": "python3"
  },
  "language_info": {
   "codemirror_mode": {
    "name": "ipython",
    "version": 3
   },
   "file_extension": ".py",
   "mimetype": "text/x-python",
   "name": "python",
   "nbconvert_exporter": "python",
   "pygments_lexer": "ipython3",
   "version": "3.8.3"
  }
 },
 "nbformat": 4,
 "nbformat_minor": 4
}
